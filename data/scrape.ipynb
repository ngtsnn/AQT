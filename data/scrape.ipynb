{
 "cells": [
  {
   "cell_type": "markdown",
   "metadata": {},
   "source": [
    "# Import libraries"
   ]
  },
  {
   "cell_type": "code",
   "execution_count": 3,
   "metadata": {},
   "outputs": [],
   "source": [
    "import json\n",
    "import requests\n",
    "from selenium import webdriver\n",
    "from selenium.webdriver.common.keys import Keys\n",
    "from os import makedirs, path, getcwd"
   ]
  },
  {
   "cell_type": "markdown",
   "metadata": {},
   "source": [
    "# Set up constants and variables\n"
   ]
  },
  {
   "cell_type": "markdown",
   "metadata": {},
   "source": [
    "## Get secrets stuffs"
   ]
  },
  {
   "cell_type": "code",
   "execution_count": 12,
   "metadata": {},
   "outputs": [],
   "source": [
    "file = open(\"secret.txt\", \"r\")\n",
    "secrets = file.readlines()"
   ]
  },
  {
   "cell_type": "markdown",
   "metadata": {},
   "source": [
    "## Path"
   ]
  },
  {
   "cell_type": "code",
   "execution_count": 21,
   "metadata": {},
   "outputs": [],
   "source": [
    "## path\n",
    "CURR_DIR = getcwd()"
   ]
  },
  {
   "cell_type": "markdown",
   "metadata": {},
   "source": [
    "## Handling API variables"
   ]
  },
  {
   "cell_type": "code",
   "execution_count": 9,
   "metadata": {},
   "outputs": [],
   "source": [
    "### base url\n",
    "BASE_URL = \"https://api.aircheckr.com\"\n",
    "### headers\n",
    "token = secrets[0]\n",
    "headers = {\"x-access-token\": token}\n",
    "### endpoints url\n",
    "COUNTRIES_URL = \"/territory/countries\""
   ]
  },
  {
   "cell_type": "markdown",
   "metadata": {},
   "source": [
    "# Define functions"
   ]
  },
  {
   "cell_type": "code",
   "execution_count": 27,
   "metadata": {},
   "outputs": [],
   "source": [
    "# define functions\n",
    "def getCountries():\n",
    "  countries = requests.get(BASE_URL + COUNTRIES_URL, headers=headers)\n",
    "  return countries.json()\n",
    "\n",
    "#### relPath is the sort form of relative path\n",
    "def saveJSON(relPath, json):\n",
    "  ## check directory exists or not\n",
    "  joinedDir = path.dirname(relPath)\n",
    "  if(not path.exists(joinedDir)):\n",
    "    makedirs(joinedDir)\n",
    "  ## create file\n",
    "  with open(relPath, \"w\") as file: \n",
    "    file.write(json)"
   ]
  },
  {
   "cell_type": "markdown",
   "metadata": {},
   "source": [
    "# Main function"
   ]
  },
  {
   "cell_type": "code",
   "execution_count": 19,
   "metadata": {},
   "outputs": [],
   "source": [
    "def main(): \n",
    "  if(__name__ == \"__main__\"):\n",
    "    ## crawl countries list \n",
    "    countries = getCountries()\n",
    "    saveJSON(relPath= \"./result/countries.json\", json = json.dumps(countries, sort_keys=True, indent=2))\n"
   ]
  },
  {
   "cell_type": "code",
   "execution_count": 11,
   "metadata": {},
   "outputs": [],
   "source": [
    "driver = webdriver.chrome()"
   ]
  },
  {
   "cell_type": "code",
   "execution_count": 24,
   "metadata": {},
   "outputs": [
    {
     "data": {
      "text/plain": [
       "'/home/anhtu/study/3D-GIS/AQT/data/a'"
      ]
     },
     "execution_count": 24,
     "metadata": {},
     "output_type": "execute_result"
    }
   ],
   "source": [
    "joinedPath =  path.join(CURR_DIR, \"a/b.txt\")\n",
    "joinedDir = path.dirname(joinedPath)\n",
    "joinedDir"
   ]
  }
 ],
 "metadata": {
  "kernelspec": {
   "display_name": "Python 3 (ipykernel)",
   "language": "python",
   "name": "python3"
  },
  "language_info": {
   "codemirror_mode": {
    "name": "ipython",
    "version": 3
   },
   "file_extension": ".py",
   "mimetype": "text/x-python",
   "name": "python",
   "nbconvert_exporter": "python",
   "pygments_lexer": "ipython3",
   "version": "3.8.10"
  },
  "metadata": {
   "interpreter": {
    "hash": "31f2aee4e71d21fbe5cf8b01ff0e069b9275f58929596ceb00d14d90e3e16cd6"
   }
  }
 },
 "nbformat": 4,
 "nbformat_minor": 2
}
